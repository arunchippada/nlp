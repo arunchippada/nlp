{
 "cells": [
  {
   "cell_type": "code",
   "execution_count": 1,
   "metadata": {},
   "outputs": [
    {
     "name": "stderr",
     "output_type": "stream",
     "text": [
      "c:\\Users\\arunch\\AppData\\Local\\anaconda3\\envs\\autos-ner\\lib\\site-packages\\tqdm\\auto.py:21: TqdmWarning: IProgress not found. Please update jupyter and ipywidgets. See https://ipywidgets.readthedocs.io/en/stable/user_install.html\n",
      "  from .autonotebook import tqdm as notebook_tqdm\n"
     ]
    }
   ],
   "source": [
    "from transformers import pipeline\n",
    "from transformers import AutoModelForTokenClassification, TrainingArguments, Trainer, AutoTokenizer, AutoModel\n",
    "from transformers import DataCollatorForTokenClassification\n",
    "import datasets\n",
    "import evaluate\n",
    "\n",
    "import numpy as np\n",
    "import pandas as pd\n",
    "\n",
    "pd.set_option('display.max_columns', None)\n",
    "pd.set_option('display.max_rows', None)\n",
    "pd.set_option('display.max_colwidth', None)"
   ]
  },
  {
   "attachments": {},
   "cell_type": "markdown",
   "metadata": {},
   "source": [
    "### Load data"
   ]
  },
  {
   "cell_type": "code",
   "execution_count": 2,
   "metadata": {},
   "outputs": [],
   "source": [
    "def get_tags(tags_str):\n",
    "    if len(tags_str) <= 0:\n",
    "        return []\n",
    "\n",
    "    tags_str = tags_str.replace('vehicle-type', 'vehicletype')\n",
    "    tags = [t.strip() for t in tags_str.split(',')]\n",
    "    tags = [t for t in tags if not (('attribute:' in t) or ('attributevalue:' in t) or ('autoparts & accessories:' in t) or ('class:' in t) or ('domain:' in t) or ('finance:' in t) or ('vin:' in t) or ('non-autos:' in t))]\n",
    "    return tags\n"
   ]
  },
  {
   "cell_type": "code",
   "execution_count": 3,
   "metadata": {},
   "outputs": [],
   "source": [
    "def word_pos_to_index(text, words):\n",
    "    pos_to_index = {}\n",
    "    start = 0\n",
    "    for i, w in enumerate(words):\n",
    "        pos = text.find(w, start)\n",
    "        if pos >= 0:\n",
    "            pos_to_index[pos] = i\n",
    "            start += len(w)\n",
    "    return pos_to_index"
   ]
  },
  {
   "cell_type": "code",
   "execution_count": 4,
   "metadata": {},
   "outputs": [],
   "source": [
    "def update_labels(labels, labels_len, label, pattern, text, text_len, pos_to_index):\n",
    "    pattern_words_len = len(pattern.split())\n",
    "    pattern_len = len(pattern)\n",
    "\n",
    "    start = 0\n",
    "    while start < text_len:\n",
    "        pos = text.find(pattern, start)\n",
    "        if pos < 0:\n",
    "            break\n",
    "\n",
    "        start = pos + pattern_len\n",
    "\n",
    "        index = pos_to_index.get(pos, -1)\n",
    "        if (index >= 0) and (index + pattern_words_len - 1 < labels_len):\n",
    "            labels[index] = f'B-{label}'\n",
    "            for i in range(index + 1, index + pattern_words_len):\n",
    "                labels[i] = f'I-{label}'"
   ]
  },
  {
   "cell_type": "code",
   "execution_count": 5,
   "metadata": {},
   "outputs": [],
   "source": [
    "def get_labels(text, words, tags):\n",
    "    labels_len = len(words)\n",
    "    labels = ['0'] * labels_len\n",
    "\n",
    "    if len(tags) <= 0:\n",
    "        return labels\n",
    "\n",
    "    pos_to_index = word_pos_to_index(text, words)\n",
    "    text_len = len(text)\n",
    "    for tag in tags:\n",
    "        parts = list(filter(None, tag.split(':')))\n",
    "        if len(parts) != 2:\n",
    "            continue\n",
    "\n",
    "        update_labels(labels, labels_len, parts[0], parts[1], text, text_len, pos_to_index)\n",
    "    \n",
    "    return labels"
   ]
  },
  {
   "cell_type": "code",
   "execution_count": 6,
   "metadata": {},
   "outputs": [],
   "source": [
    "def label_base(x):\n",
    "    x = x.replace('B-', '')\n",
    "    x = x.replace('I-', '')\n",
    "    return x"
   ]
  },
  {
   "cell_type": "code",
   "execution_count": 7,
   "metadata": {},
   "outputs": [],
   "source": [
    "def label_order(x):\n",
    "    if 'B-' in x:\n",
    "        x = x.replace('B-', '')\n",
    "        x = x + 'B'\n",
    "    if 'I-' in x:\n",
    "        x = x.replace('I-', '')\n",
    "        x = x + 'I'\n",
    "    return x"
   ]
  },
  {
   "cell_type": "code",
   "execution_count": 8,
   "metadata": {},
   "outputs": [],
   "source": [
    "path = 'E:/work/auto/bingans/quality'"
   ]
  },
  {
   "cell_type": "code",
   "execution_count": 9,
   "metadata": {},
   "outputs": [],
   "source": [
    "file = f'{path}/tag_results_large.tsv'\n",
    "results = pd.read_csv(file, sep='\\t', header=0)"
   ]
  },
  {
   "cell_type": "code",
   "execution_count": 10,
   "metadata": {},
   "outputs": [
    {
     "data": {
      "text/plain": [
       "(6773, 3)"
      ]
     },
     "execution_count": 10,
     "metadata": {},
     "output_type": "execute_result"
    }
   ],
   "source": [
    "results.shape"
   ]
  },
  {
   "cell_type": "code",
   "execution_count": 11,
   "metadata": {},
   "outputs": [
    {
     "data": {
      "text/plain": [
       "Result.Intent\n",
       "Research                                 1149\n",
       "Buy                                      1028\n",
       "Non-Autos                                 943\n",
       "Navigational                              900\n",
       "Buy, Research                             564\n",
       "Research, Buy                             524\n",
       "Finance                                   438\n",
       "Autoparts & Accessories, Ownership        390\n",
       "Autoparts & Accessories                   258\n",
       "Ownership                                 238\n",
       "Sell                                       74\n",
       "Autoparts & Accessories, Research          40\n",
       "Research, Autoparts & Accessories          26\n",
       "Research, Ownership                        26\n",
       "Research, Finance                          25\n",
       "Buy, Navigational                          17\n",
       "Ownership, Research                        17\n",
       "Autoparts & Accessories, Buy               16\n",
       "Ownership, Autoparts & Accessories         16\n",
       "Rent                                       14\n",
       "Buy, Autoparts & Accessories               13\n",
       "Research, Navigational                     11\n",
       "Buy, Finance                                8\n",
       "Buy, Ownership                              8\n",
       "Buy, Rent                                   6\n",
       "Autoparts & Accessories, Sell               6\n",
       "Buy, Sell                                   4\n",
       "Autoparts & Accessories, Navigational       3\n",
       "Ownership, Finance                          3\n",
       "Finance, Sell                               2\n",
       "Navigational, Ownership                     1\n",
       "Sell, Navigational                          1\n",
       "Autoparts & Accessories, Finance            1\n",
       "Sell, Research                              1\n",
       "Navigational, Research                      1\n",
       "Finance, Research                           1\n",
       "Name: count, dtype: int64"
      ]
     },
     "execution_count": 11,
     "metadata": {},
     "output_type": "execute_result"
    }
   ],
   "source": [
    "results['Result.Intent'].value_counts()"
   ]
  },
  {
   "cell_type": "code",
   "execution_count": 12,
   "metadata": {},
   "outputs": [],
   "source": [
    "cols = ['Query', 'Result.Tags']\n",
    "research = results[results['Result.Intent'].str.contains('Research') & ~results['Result.Intent'].str.contains('Autoparts & Accessories') & ~results['Result.Intent'].str.contains('Buy')][cols]"
   ]
  },
  {
   "cell_type": "code",
   "execution_count": 80,
   "metadata": {},
   "outputs": [
    {
     "data": {
      "text/plain": [
       "(1231, 2)"
      ]
     },
     "execution_count": 80,
     "metadata": {},
     "output_type": "execute_result"
    }
   ],
   "source": [
    "research.shape"
   ]
  },
  {
   "cell_type": "code",
   "execution_count": 81,
   "metadata": {},
   "outputs": [],
   "source": [
    "research['NormQuery'] = research.Query.str.lower()\n",
    "research['TagsStr'] = research['Result.Tags'].str.lower()\n",
    "research['Tags'] = research.TagsStr.apply(lambda x: get_tags(x))\n",
    "research['Words'] = research.NormQuery.str.split()\n",
    "research['Labels'] = research.apply(lambda row: get_labels(row.NormQuery, row.Words, row.Tags), axis=1)"
   ]
  },
  {
   "cell_type": "code",
   "execution_count": 82,
   "metadata": {},
   "outputs": [],
   "source": [
    "unique_labels_research = {label_base(l) for label_arr in research.Labels for l in label_arr}\n",
    "sorted_labels_research = sorted(unique_labels_research)"
   ]
  },
  {
   "cell_type": "code",
   "execution_count": 83,
   "metadata": {},
   "outputs": [
    {
     "data": {
      "text/plain": [
       "{'0',\n",
       " 'aggregator',\n",
       " 'bodystyle',\n",
       " 'color',\n",
       " 'compare',\n",
       " 'dealer',\n",
       " 'dealername',\n",
       " 'drivetrain',\n",
       " 'engine',\n",
       " 'intentindicator',\n",
       " 'location',\n",
       " 'make',\n",
       " 'mileage',\n",
       " 'model',\n",
       " 'modifier',\n",
       " 'segment',\n",
       " 'stateofvehicle',\n",
       " 'transmission',\n",
       " 'trim',\n",
       " 'vehicletype',\n",
       " 'year'}"
      ]
     },
     "execution_count": 83,
     "metadata": {},
     "output_type": "execute_result"
    }
   ],
   "source": [
    "unique_labels_research"
   ]
  },
  {
   "cell_type": "code",
   "execution_count": 84,
   "metadata": {},
   "outputs": [
    {
     "data": {
      "text/plain": [
       "21"
      ]
     },
     "execution_count": 84,
     "metadata": {},
     "output_type": "execute_result"
    }
   ],
   "source": [
    "len(unique_labels_research)"
   ]
  },
  {
   "cell_type": "code",
   "execution_count": 85,
   "metadata": {},
   "outputs": [
    {
     "data": {
      "text/plain": [
       "{'compare', 'mileage'}"
      ]
     },
     "execution_count": 85,
     "metadata": {},
     "output_type": "execute_result"
    }
   ],
   "source": [
    "unique_labels_research - unique_labels"
   ]
  },
  {
   "cell_type": "code",
   "execution_count": 86,
   "metadata": {},
   "outputs": [
    {
     "data": {
      "text/plain": [
       "{'price'}"
      ]
     },
     "execution_count": 86,
     "metadata": {},
     "output_type": "execute_result"
    }
   ],
   "source": [
    "unique_labels - unique_labels_research"
   ]
  },
  {
   "cell_type": "code",
   "execution_count": 13,
   "metadata": {},
   "outputs": [],
   "source": [
    "# cols = ['Query', 'Result.Tags', 'Result.Intent', 'Result.Explanation', 'Result.PrimaryIntent']\n",
    "cols = ['Query', 'Result.Tags']\n",
    "buy_research = results[(results['Result.Intent'].str.contains('Buy') | results['Result.Intent'].str.contains('Research')) & ~results['Result.Intent'].str.contains('Autoparts & Accessories')][cols]"
   ]
  },
  {
   "cell_type": "code",
   "execution_count": 14,
   "metadata": {},
   "outputs": [
    {
     "data": {
      "text/plain": [
       "(3390, 2)"
      ]
     },
     "execution_count": 14,
     "metadata": {},
     "output_type": "execute_result"
    }
   ],
   "source": [
    "buy_research.shape"
   ]
  },
  {
   "cell_type": "code",
   "execution_count": 89,
   "metadata": {},
   "outputs": [],
   "source": [
    "buy_research['NormQuery'] = buy_research.Query.str.lower()\n",
    "buy_research['TagsStr'] = buy_research['Result.Tags'].str.lower()\n",
    "buy_research['Tags'] = buy_research.TagsStr.apply(lambda x: get_tags(x))\n",
    "buy_research['Words'] = buy_research.NormQuery.str.split()\n",
    "buy_research['Labels'] = buy_research.apply(lambda row: get_labels(row.NormQuery, row.Words, row.Tags), axis=1)"
   ]
  },
  {
   "cell_type": "code",
   "execution_count": 43,
   "metadata": {},
   "outputs": [],
   "source": [
    "buy.at[40, 'Labels'] = ['B-make', 'B-model', '0', 'B-location']"
   ]
  },
  {
   "cell_type": "code",
   "execution_count": 90,
   "metadata": {},
   "outputs": [],
   "source": [
    "#unique_labels = {l for label_arr in buy.Labels for l in label_arr}\n",
    "#sorted_labels = sorted(unique_labels, key=label_order)\n",
    "unique_labels = {label_base(l) for label_arr in buy_research.Labels for l in label_arr}\n",
    "sorted_labels = sorted(unique_labels)"
   ]
  },
  {
   "cell_type": "code",
   "execution_count": 91,
   "metadata": {},
   "outputs": [],
   "source": [
    "sorted_labels = [mod_label for l in sorted_labels if not l == '0' for mod_label in ['B-' + l, 'I-' + l]]"
   ]
  },
  {
   "cell_type": "code",
   "execution_count": 92,
   "metadata": {},
   "outputs": [],
   "source": [
    "sorted_labels.insert(0, '0')"
   ]
  },
  {
   "cell_type": "code",
   "execution_count": 93,
   "metadata": {},
   "outputs": [
    {
     "data": {
      "text/plain": [
       "43"
      ]
     },
     "execution_count": 93,
     "metadata": {},
     "output_type": "execute_result"
    }
   ],
   "source": [
    "len(sorted_labels)"
   ]
  },
  {
   "cell_type": "code",
   "execution_count": 94,
   "metadata": {},
   "outputs": [],
   "source": [
    "id2label = {i: label for i, label in enumerate(sorted_labels)}\n",
    "label2id = {v: k for k, v in id2label.items()}"
   ]
  },
  {
   "cell_type": "code",
   "execution_count": 95,
   "metadata": {},
   "outputs": [],
   "source": [
    "buy_research['LabelIds'] = buy_research.Labels.apply(lambda x: [label2id[l] for l in x])"
   ]
  },
  {
   "cell_type": "code",
   "execution_count": 96,
   "metadata": {},
   "outputs": [
    {
     "data": {
      "text/plain": [
       "{0: '0',\n",
       " 1: 'B-aggregator',\n",
       " 2: 'I-aggregator',\n",
       " 3: 'B-bodystyle',\n",
       " 4: 'I-bodystyle',\n",
       " 5: 'B-color',\n",
       " 6: 'I-color',\n",
       " 7: 'B-compare',\n",
       " 8: 'I-compare',\n",
       " 9: 'B-dealer',\n",
       " 10: 'I-dealer',\n",
       " 11: 'B-dealername',\n",
       " 12: 'I-dealername',\n",
       " 13: 'B-drivetrain',\n",
       " 14: 'I-drivetrain',\n",
       " 15: 'B-engine',\n",
       " 16: 'I-engine',\n",
       " 17: 'B-intentindicator',\n",
       " 18: 'I-intentindicator',\n",
       " 19: 'B-location',\n",
       " 20: 'I-location',\n",
       " 21: 'B-make',\n",
       " 22: 'I-make',\n",
       " 23: 'B-mileage',\n",
       " 24: 'I-mileage',\n",
       " 25: 'B-model',\n",
       " 26: 'I-model',\n",
       " 27: 'B-modifier',\n",
       " 28: 'I-modifier',\n",
       " 29: 'B-price',\n",
       " 30: 'I-price',\n",
       " 31: 'B-segment',\n",
       " 32: 'I-segment',\n",
       " 33: 'B-stateofvehicle',\n",
       " 34: 'I-stateofvehicle',\n",
       " 35: 'B-transmission',\n",
       " 36: 'I-transmission',\n",
       " 37: 'B-trim',\n",
       " 38: 'I-trim',\n",
       " 39: 'B-vehicletype',\n",
       " 40: 'I-vehicletype',\n",
       " 41: 'B-year',\n",
       " 42: 'I-year'}"
      ]
     },
     "execution_count": 96,
     "metadata": {},
     "output_type": "execute_result"
    }
   ],
   "source": [
    "id2label"
   ]
  },
  {
   "cell_type": "code",
   "execution_count": 97,
   "metadata": {},
   "outputs": [
    {
     "data": {
      "text/html": [
       "<div>\n",
       "<style scoped>\n",
       "    .dataframe tbody tr th:only-of-type {\n",
       "        vertical-align: middle;\n",
       "    }\n",
       "\n",
       "    .dataframe tbody tr th {\n",
       "        vertical-align: top;\n",
       "    }\n",
       "\n",
       "    .dataframe thead th {\n",
       "        text-align: right;\n",
       "    }\n",
       "</style>\n",
       "<table border=\"1\" class=\"dataframe\">\n",
       "  <thead>\n",
       "    <tr style=\"text-align: right;\">\n",
       "      <th></th>\n",
       "      <th>Query</th>\n",
       "      <th>Result.Tags</th>\n",
       "      <th>NormQuery</th>\n",
       "      <th>TagsStr</th>\n",
       "      <th>Tags</th>\n",
       "      <th>Words</th>\n",
       "      <th>Labels</th>\n",
       "      <th>LabelIds</th>\n",
       "    </tr>\n",
       "  </thead>\n",
       "  <tbody>\n",
       "    <tr>\n",
       "      <th>6</th>\n",
       "      <td>13' boston whaler for sale</td>\n",
       "      <td>Vehicle-Type:Boats, Make:Boston Whaler, IntentIndicator:for sale</td>\n",
       "      <td>13' boston whaler for sale</td>\n",
       "      <td>vehicle-type:boats, make:boston whaler, intentindicator:for sale</td>\n",
       "      <td>[vehicletype:boats, make:boston whaler, intentindicator:for sale]</td>\n",
       "      <td>[13', boston, whaler, for, sale]</td>\n",
       "      <td>[0, B-make, I-make, B-intentindicator, I-intentindicator]</td>\n",
       "      <td>[0, 21, 22, 17, 18]</td>\n",
       "    </tr>\n",
       "    <tr>\n",
       "      <th>7</th>\n",
       "      <td>1963 falcon for sale</td>\n",
       "      <td>Year:1963, Make:Falcon, IntentIndicator:for sale</td>\n",
       "      <td>1963 falcon for sale</td>\n",
       "      <td>year:1963, make:falcon, intentindicator:for sale</td>\n",
       "      <td>[year:1963, make:falcon, intentindicator:for sale]</td>\n",
       "      <td>[1963, falcon, for, sale]</td>\n",
       "      <td>[B-year, B-make, B-intentindicator, I-intentindicator]</td>\n",
       "      <td>[41, 21, 17, 18]</td>\n",
       "    </tr>\n",
       "  </tbody>\n",
       "</table>\n",
       "</div>"
      ],
      "text/plain": [
       "                        Query  \\\n",
       "6  13' boston whaler for sale   \n",
       "7        1963 falcon for sale   \n",
       "\n",
       "                                                        Result.Tags  \\\n",
       "6  Vehicle-Type:Boats, Make:Boston Whaler, IntentIndicator:for sale   \n",
       "7                  Year:1963, Make:Falcon, IntentIndicator:for sale   \n",
       "\n",
       "                    NormQuery  \\\n",
       "6  13' boston whaler for sale   \n",
       "7        1963 falcon for sale   \n",
       "\n",
       "                                                            TagsStr  \\\n",
       "6  vehicle-type:boats, make:boston whaler, intentindicator:for sale   \n",
       "7                  year:1963, make:falcon, intentindicator:for sale   \n",
       "\n",
       "                                                                Tags  \\\n",
       "6  [vehicletype:boats, make:boston whaler, intentindicator:for sale]   \n",
       "7                 [year:1963, make:falcon, intentindicator:for sale]   \n",
       "\n",
       "                              Words  \\\n",
       "6  [13', boston, whaler, for, sale]   \n",
       "7         [1963, falcon, for, sale]   \n",
       "\n",
       "                                                      Labels  \\\n",
       "6  [0, B-make, I-make, B-intentindicator, I-intentindicator]   \n",
       "7     [B-year, B-make, B-intentindicator, I-intentindicator]   \n",
       "\n",
       "              LabelIds  \n",
       "6  [0, 21, 22, 17, 18]  \n",
       "7     [41, 21, 17, 18]  "
      ]
     },
     "execution_count": 97,
     "metadata": {},
     "output_type": "execute_result"
    }
   ],
   "source": [
    "buy_research[:2]"
   ]
  },
  {
   "cell_type": "markdown",
   "metadata": {},
   "source": [
    "### Create dataset"
   ]
  },
  {
   "cell_type": "code",
   "execution_count": 98,
   "metadata": {},
   "outputs": [],
   "source": [
    "data = datasets.Dataset.from_pandas(buy_research[['Words', 'LabelIds']])"
   ]
  },
  {
   "cell_type": "code",
   "execution_count": 99,
   "metadata": {},
   "outputs": [
    {
     "data": {
      "text/plain": [
       "{'Words': ['1966', 'chevrolet', 'malibu', 'specs'],\n",
       " 'LabelIds': [41, 21, 25, 0],\n",
       " '__index_level_0__': 8}"
      ]
     },
     "execution_count": 99,
     "metadata": {},
     "output_type": "execute_result"
    }
   ],
   "source": [
    "data[2]"
   ]
  },
  {
   "cell_type": "code",
   "execution_count": 100,
   "metadata": {},
   "outputs": [],
   "source": [
    "split_ds = data.train_test_split(test_size=0.07)"
   ]
  },
  {
   "cell_type": "code",
   "execution_count": 101,
   "metadata": {},
   "outputs": [
    {
     "data": {
      "text/plain": [
       "DatasetDict({\n",
       "    train: Dataset({\n",
       "        features: ['Words', 'LabelIds', '__index_level_0__'],\n",
       "        num_rows: 3152\n",
       "    })\n",
       "    test: Dataset({\n",
       "        features: ['Words', 'LabelIds', '__index_level_0__'],\n",
       "        num_rows: 238\n",
       "    })\n",
       "})"
      ]
     },
     "execution_count": 101,
     "metadata": {},
     "output_type": "execute_result"
    }
   ],
   "source": [
    "split_ds"
   ]
  },
  {
   "attachments": {},
   "cell_type": "markdown",
   "metadata": {},
   "source": [
    "### Tokenizer"
   ]
  },
  {
   "cell_type": "code",
   "execution_count": 102,
   "metadata": {},
   "outputs": [],
   "source": [
    "def labels_to_labelnames(labels):\n",
    "    return [None if l == -100 else sorted_labels[l] for l in labels]"
   ]
  },
  {
   "cell_type": "code",
   "execution_count": 103,
   "metadata": {},
   "outputs": [],
   "source": [
    "def align_labels_with_subwords(wordids, labels):\n",
    "    new_labels = [-100 if w is None else labels[w] for w in wordids]\n",
    "\n",
    "    # If a label is repeated (same label as the one preceding it) and the label is B-XXX we change it to I-XXX\n",
    "    updated_labels = [(l+1) if l % 2 == 1 and i > 0 and new_labels[i-1] == l else l for i, l in enumerate(new_labels)]\n",
    "\n",
    "    return updated_labels"
   ]
  },
  {
   "cell_type": "code",
   "execution_count": 104,
   "metadata": {},
   "outputs": [],
   "source": [
    "def tokenize_and_align_labels(ds_slice, tokenizer):\n",
    "    tokenized = tokenizer(ds_slice['Words'], truncation=True, is_split_into_words=True)\n",
    "    tokenized['subtokens'] = [tokenized.tokens(i) for i, t in enumerate(ds_slice['Words'])]\n",
    "    tokenized['word_ids'] = [tokenized.word_ids(i) for i, t in enumerate(ds_slice['Words'])]\n",
    "    tokenized['labels'] = [align_labels_with_subwords(tokenized.word_ids(i), nt) for i, nt in enumerate(ds_slice['LabelIds'])]\n",
    "\n",
    "    return tokenized"
   ]
  },
  {
   "cell_type": "code",
   "execution_count": 105,
   "metadata": {},
   "outputs": [],
   "source": [
    "model_checkpoint = \"bert-base-cased\"\n",
    "tokenizer = AutoTokenizer.from_pretrained(model_checkpoint)"
   ]
  },
  {
   "cell_type": "code",
   "execution_count": 106,
   "metadata": {},
   "outputs": [
    {
     "data": {
      "application/vnd.jupyter.widget-view+json": {
       "model_id": "3793b96cd95e4197a065ad0400fe0206",
       "version_major": 2,
       "version_minor": 0
      },
      "text/plain": [
       "Map:   0%|          | 0/3152 [00:00<?, ? examples/s]"
      ]
     },
     "metadata": {},
     "output_type": "display_data"
    },
    {
     "data": {
      "application/vnd.jupyter.widget-view+json": {
       "model_id": "d9b890b93997467188ee030c3f68fbe9",
       "version_major": 2,
       "version_minor": 0
      },
      "text/plain": [
       "Map:   0%|          | 0/238 [00:00<?, ? examples/s]"
      ]
     },
     "metadata": {},
     "output_type": "display_data"
    }
   ],
   "source": [
    "mapped = split_ds.map(lambda x: tokenize_and_align_labels(x, tokenizer), batched=True, remove_columns=['__index_level_0__'])"
   ]
  },
  {
   "cell_type": "code",
   "execution_count": 107,
   "metadata": {},
   "outputs": [
    {
     "data": {
      "text/plain": [
       "{'Words': ['bmw', 'xm', '2023'],\n",
       " 'LabelIds': [21, 25, 41],\n",
       " 'input_ids': [101, 171, 1306, 2246, 193, 1306, 17881, 1495, 102],\n",
       " 'token_type_ids': [0, 0, 0, 0, 0, 0, 0, 0, 0],\n",
       " 'attention_mask': [1, 1, 1, 1, 1, 1, 1, 1, 1],\n",
       " 'subtokens': ['[CLS]', 'b', '##m', '##w', 'x', '##m', '202', '##3', '[SEP]'],\n",
       " 'word_ids': [None, 0, 0, 0, 1, 1, 2, 2, None],\n",
       " 'labels': [-100, 21, 22, 22, 25, 26, 41, 42, -100]}"
      ]
     },
     "execution_count": 107,
     "metadata": {},
     "output_type": "execute_result"
    }
   ],
   "source": [
    "mapped['train'][1]"
   ]
  },
  {
   "cell_type": "code",
   "execution_count": 108,
   "metadata": {},
   "outputs": [
    {
     "data": {
      "text/plain": [
       "[None,\n",
       " 'B-make',\n",
       " 'I-make',\n",
       " 'I-make',\n",
       " 'B-model',\n",
       " 'I-model',\n",
       " 'B-year',\n",
       " 'I-year',\n",
       " None]"
      ]
     },
     "execution_count": 108,
     "metadata": {},
     "output_type": "execute_result"
    }
   ],
   "source": [
    "labels_to_labelnames(mapped['train'][1]['labels'])"
   ]
  },
  {
   "cell_type": "code",
   "execution_count": 109,
   "metadata": {},
   "outputs": [
    {
     "data": {
      "application/vnd.jupyter.widget-view+json": {
       "model_id": "ef753f2775dc4128b9cf96a17017acb9",
       "version_major": 2,
       "version_minor": 0
      },
      "text/plain": [
       "Map:   0%|          | 0/3152 [00:00<?, ? examples/s]"
      ]
     },
     "metadata": {},
     "output_type": "display_data"
    },
    {
     "data": {
      "application/vnd.jupyter.widget-view+json": {
       "model_id": "4e731e52bf3a44fc87e65bdef266597d",
       "version_major": 2,
       "version_minor": 0
      },
      "text/plain": [
       "Map:   0%|          | 0/238 [00:00<?, ? examples/s]"
      ]
     },
     "metadata": {},
     "output_type": "display_data"
    }
   ],
   "source": [
    "ds = mapped.map(remove_columns=['Words', 'LabelIds', 'subtokens', 'word_ids'])"
   ]
  },
  {
   "cell_type": "code",
   "execution_count": 110,
   "metadata": {},
   "outputs": [
    {
     "data": {
      "text/plain": [
       "{'input_ids': [101, 180, 1465, 3960, 25112, 102],\n",
       " 'token_type_ids': [0, 0, 0, 0, 0, 0],\n",
       " 'attention_mask': [1, 1, 1, 1, 1, 1],\n",
       " 'labels': [-100, 21, 22, 25, 0, -100]}"
      ]
     },
     "execution_count": 110,
     "metadata": {},
     "output_type": "execute_result"
    }
   ],
   "source": [
    "ds['train'][2]"
   ]
  },
  {
   "cell_type": "markdown",
   "metadata": {},
   "source": [
    "### Data collation and padding"
   ]
  },
  {
   "cell_type": "code",
   "execution_count": 111,
   "metadata": {},
   "outputs": [],
   "source": [
    "data_collator = DataCollatorForTokenClassification(tokenizer=tokenizer)"
   ]
  },
  {
   "cell_type": "code",
   "execution_count": 112,
   "metadata": {},
   "outputs": [
    {
     "name": "stderr",
     "output_type": "stream",
     "text": [
      "You're using a BertTokenizerFast tokenizer. Please note that with a fast tokenizer, using the `__call__` method is faster than using a method to encode the text followed by a call to the `pad` method to get a padded encoding.\n"
     ]
    }
   ],
   "source": [
    "batch = data_collator([ds[\"train\"][i] for i in range(2)])"
   ]
  },
  {
   "cell_type": "code",
   "execution_count": 113,
   "metadata": {},
   "outputs": [
    {
     "data": {
      "text/plain": [
       "{'input_ids': tensor([[  101,  1107, 10359,   189, 10160,  1162, 21552,   102,     0],\n",
       "         [  101,   171,  1306,  2246,   193,  1306, 17881,  1495,   102]]),\n",
       " 'token_type_ids': tensor([[0, 0, 0, 0, 0, 0, 0, 0, 0],\n",
       "         [0, 0, 0, 0, 0, 0, 0, 0, 0]]),\n",
       " 'attention_mask': tensor([[1, 1, 1, 1, 1, 1, 1, 1, 0],\n",
       "         [1, 1, 1, 1, 1, 1, 1, 1, 1]]),\n",
       " 'labels': tensor([[-100,   21,   22,    3,    4,    4,   39, -100, -100],\n",
       "         [-100,   21,   22,   22,   25,   26,   41,   42, -100]])}"
      ]
     },
     "execution_count": 113,
     "metadata": {},
     "output_type": "execute_result"
    }
   ],
   "source": [
    "batch"
   ]
  },
  {
   "cell_type": "markdown",
   "metadata": {},
   "source": [
    "### Metrics"
   ]
  },
  {
   "cell_type": "code",
   "execution_count": 114,
   "metadata": {},
   "outputs": [],
   "source": [
    "metric = evaluate.load(\"seqeval\")"
   ]
  },
  {
   "cell_type": "code",
   "execution_count": 115,
   "metadata": {},
   "outputs": [],
   "source": [
    "def compute_metrics(eval_preds):\n",
    "    logits, labels = eval_preds\n",
    "    predictions = np.argmax(logits, axis=-1)\n",
    "\n",
    "    # Remove ignored index (special tokens) and convert to labels\n",
    "    true_labels = [[sorted_labels[l] for l in label if l != -100] for label in labels]\n",
    "    true_predictions = [\n",
    "        [sorted_labels[p] for (p, l) in zip(prediction, label) if l != -100]\n",
    "        for prediction, label in zip(predictions, labels)\n",
    "    ]\n",
    "    all_metrics = metric.compute(predictions=true_predictions, references=true_labels)\n",
    "    return {\n",
    "        \"precision\": all_metrics[\"overall_precision\"],\n",
    "        \"recall\": all_metrics[\"overall_recall\"],\n",
    "        \"f1\": all_metrics[\"overall_f1\"],\n",
    "        \"accuracy\": all_metrics[\"overall_accuracy\"],\n",
    "    }"
   ]
  },
  {
   "cell_type": "markdown",
   "metadata": {},
   "source": [
    "### Model"
   ]
  },
  {
   "cell_type": "code",
   "execution_count": 116,
   "metadata": {},
   "outputs": [
    {
     "name": "stderr",
     "output_type": "stream",
     "text": [
      "Some weights of the model checkpoint at bert-base-cased were not used when initializing BertForTokenClassification: ['cls.predictions.decoder.weight', 'cls.seq_relationship.bias', 'cls.predictions.bias', 'cls.predictions.transform.LayerNorm.bias', 'cls.predictions.transform.dense.bias', 'cls.predictions.transform.LayerNorm.weight', 'cls.seq_relationship.weight', 'cls.predictions.transform.dense.weight']\n",
      "- This IS expected if you are initializing BertForTokenClassification from the checkpoint of a model trained on another task or with another architecture (e.g. initializing a BertForSequenceClassification model from a BertForPreTraining model).\n",
      "- This IS NOT expected if you are initializing BertForTokenClassification from the checkpoint of a model that you expect to be exactly identical (initializing a BertForSequenceClassification model from a BertForSequenceClassification model).\n",
      "Some weights of BertForTokenClassification were not initialized from the model checkpoint at bert-base-cased and are newly initialized: ['classifier.weight', 'classifier.bias']\n",
      "You should probably TRAIN this model on a down-stream task to be able to use it for predictions and inference.\n"
     ]
    }
   ],
   "source": [
    "model = AutoModelForTokenClassification.from_pretrained(\n",
    "    model_checkpoint,\n",
    "    id2label=id2label,\n",
    "    label2id=label2id,\n",
    ")"
   ]
  },
  {
   "cell_type": "code",
   "execution_count": 117,
   "metadata": {},
   "outputs": [
    {
     "data": {
      "text/plain": [
       "BertConfig {\n",
       "  \"_name_or_path\": \"bert-base-cased\",\n",
       "  \"architectures\": [\n",
       "    \"BertForMaskedLM\"\n",
       "  ],\n",
       "  \"attention_probs_dropout_prob\": 0.1,\n",
       "  \"classifier_dropout\": null,\n",
       "  \"gradient_checkpointing\": false,\n",
       "  \"hidden_act\": \"gelu\",\n",
       "  \"hidden_dropout_prob\": 0.1,\n",
       "  \"hidden_size\": 768,\n",
       "  \"id2label\": {\n",
       "    \"0\": \"0\",\n",
       "    \"1\": \"B-aggregator\",\n",
       "    \"2\": \"I-aggregator\",\n",
       "    \"3\": \"B-bodystyle\",\n",
       "    \"4\": \"I-bodystyle\",\n",
       "    \"5\": \"B-color\",\n",
       "    \"6\": \"I-color\",\n",
       "    \"7\": \"B-compare\",\n",
       "    \"8\": \"I-compare\",\n",
       "    \"9\": \"B-dealer\",\n",
       "    \"10\": \"I-dealer\",\n",
       "    \"11\": \"B-dealername\",\n",
       "    \"12\": \"I-dealername\",\n",
       "    \"13\": \"B-drivetrain\",\n",
       "    \"14\": \"I-drivetrain\",\n",
       "    \"15\": \"B-engine\",\n",
       "    \"16\": \"I-engine\",\n",
       "    \"17\": \"B-intentindicator\",\n",
       "    \"18\": \"I-intentindicator\",\n",
       "    \"19\": \"B-location\",\n",
       "    \"20\": \"I-location\",\n",
       "    \"21\": \"B-make\",\n",
       "    \"22\": \"I-make\",\n",
       "    \"23\": \"B-mileage\",\n",
       "    \"24\": \"I-mileage\",\n",
       "    \"25\": \"B-model\",\n",
       "    \"26\": \"I-model\",\n",
       "    \"27\": \"B-modifier\",\n",
       "    \"28\": \"I-modifier\",\n",
       "    \"29\": \"B-price\",\n",
       "    \"30\": \"I-price\",\n",
       "    \"31\": \"B-segment\",\n",
       "    \"32\": \"I-segment\",\n",
       "    \"33\": \"B-stateofvehicle\",\n",
       "    \"34\": \"I-stateofvehicle\",\n",
       "    \"35\": \"B-transmission\",\n",
       "    \"36\": \"I-transmission\",\n",
       "    \"37\": \"B-trim\",\n",
       "    \"38\": \"I-trim\",\n",
       "    \"39\": \"B-vehicletype\",\n",
       "    \"40\": \"I-vehicletype\",\n",
       "    \"41\": \"B-year\",\n",
       "    \"42\": \"I-year\"\n",
       "  },\n",
       "  \"initializer_range\": 0.02,\n",
       "  \"intermediate_size\": 3072,\n",
       "  \"label2id\": {\n",
       "    \"0\": 0,\n",
       "    \"B-aggregator\": 1,\n",
       "    \"B-bodystyle\": 3,\n",
       "    \"B-color\": 5,\n",
       "    \"B-compare\": 7,\n",
       "    \"B-dealer\": 9,\n",
       "    \"B-dealername\": 11,\n",
       "    \"B-drivetrain\": 13,\n",
       "    \"B-engine\": 15,\n",
       "    \"B-intentindicator\": 17,\n",
       "    \"B-location\": 19,\n",
       "    \"B-make\": 21,\n",
       "    \"B-mileage\": 23,\n",
       "    \"B-model\": 25,\n",
       "    \"B-modifier\": 27,\n",
       "    \"B-price\": 29,\n",
       "    \"B-segment\": 31,\n",
       "    \"B-stateofvehicle\": 33,\n",
       "    \"B-transmission\": 35,\n",
       "    \"B-trim\": 37,\n",
       "    \"B-vehicletype\": 39,\n",
       "    \"B-year\": 41,\n",
       "    \"I-aggregator\": 2,\n",
       "    \"I-bodystyle\": 4,\n",
       "    \"I-color\": 6,\n",
       "    \"I-compare\": 8,\n",
       "    \"I-dealer\": 10,\n",
       "    \"I-dealername\": 12,\n",
       "    \"I-drivetrain\": 14,\n",
       "    \"I-engine\": 16,\n",
       "    \"I-intentindicator\": 18,\n",
       "    \"I-location\": 20,\n",
       "    \"I-make\": 22,\n",
       "    \"I-mileage\": 24,\n",
       "    \"I-model\": 26,\n",
       "    \"I-modifier\": 28,\n",
       "    \"I-price\": 30,\n",
       "    \"I-segment\": 32,\n",
       "    \"I-stateofvehicle\": 34,\n",
       "    \"I-transmission\": 36,\n",
       "    \"I-trim\": 38,\n",
       "    \"I-vehicletype\": 40,\n",
       "    \"I-year\": 42\n",
       "  },\n",
       "  \"layer_norm_eps\": 1e-12,\n",
       "  \"max_position_embeddings\": 512,\n",
       "  \"model_type\": \"bert\",\n",
       "  \"num_attention_heads\": 12,\n",
       "  \"num_hidden_layers\": 12,\n",
       "  \"pad_token_id\": 0,\n",
       "  \"position_embedding_type\": \"absolute\",\n",
       "  \"transformers_version\": \"4.24.0\",\n",
       "  \"type_vocab_size\": 2,\n",
       "  \"use_cache\": true,\n",
       "  \"vocab_size\": 28996\n",
       "}"
      ]
     },
     "execution_count": 117,
     "metadata": {},
     "output_type": "execute_result"
    }
   ],
   "source": [
    "model.config"
   ]
  },
  {
   "cell_type": "markdown",
   "metadata": {},
   "source": [
    "### Trainer"
   ]
  },
  {
   "cell_type": "code",
   "execution_count": 118,
   "metadata": {},
   "outputs": [],
   "source": [
    "args = TrainingArguments(\n",
    "    output_dir=\"AutosNer_buy_research_07_08_2023\",\n",
    "    evaluation_strategy=\"steps\",\n",
    "    save_strategy=\"steps\",\n",
    "    load_best_model_at_end=True,\n",
    "    eval_steps=100,\n",
    "    save_steps=100,\n",
    "#    eval_steps=100,\n",
    "#    save_steps=100,\n",
    "#    per_device_train_batch_size=16,\n",
    "#    per_device_eval_batch_size=16,    \n",
    "    learning_rate=2e-5,\n",
    "    num_train_epochs=10,\n",
    "    weight_decay=0.01,\n",
    "    save_total_limit=2,\n",
    "    report_to = \"none\"\n",
    ")"
   ]
  },
  {
   "cell_type": "code",
   "execution_count": null,
   "metadata": {},
   "outputs": [],
   "source": [
    "trainer = Trainer(\n",
    "    model=model,\n",
    "    args=args,\n",
    "    train_dataset=ds[\"train\"],\n",
    "    eval_dataset=ds[\"test\"],\n",
    "    data_collator=data_collator,\n",
    "    compute_metrics=compute_metrics,\n",
    "    tokenizer=tokenizer,\n",
    ")\n",
    "trainer.train()"
   ]
  },
  {
   "cell_type": "markdown",
   "metadata": {},
   "source": [
    "### Using model"
   ]
  },
  {
   "cell_type": "code",
   "execution_count": null,
   "metadata": {},
   "outputs": [
    {
     "data": {
      "text/plain": [
       "[{'entity_group': 'make',\n",
       "  'score': 0.9305529,\n",
       "  'word': 'toyota',\n",
       "  'start': 0,\n",
       "  'end': 6},\n",
       " {'entity_group': 'model',\n",
       "  'score': 0.7887881,\n",
       "  'word': 'rav4',\n",
       "  'start': 7,\n",
       "  'end': 11},\n",
       " {'entity_group': '0',\n",
       "  'score': 0.34494418,\n",
       "  'word': 'under',\n",
       "  'start': 12,\n",
       "  'end': 17},\n",
       " {'entity_group': 'location',\n",
       "  'score': 0.22965065,\n",
       "  'word': '35000',\n",
       "  'start': 18,\n",
       "  'end': 23},\n",
       " {'entity_group': 'location',\n",
       "  'score': 0.52201116,\n",
       "  'word': 'near renton',\n",
       "  'start': 24,\n",
       "  'end': 35}]"
      ]
     },
     "execution_count": 228,
     "metadata": {},
     "output_type": "execute_result"
    }
   ],
   "source": [
    "token_classifier = pipeline(\n",
    "    \"token-classification\", model=model, tokenizer=tokenizer, aggregation_strategy=\"max\"\n",
    ")\n",
    "token_classifier(\"toyota rav4 under 35000 near renton\")"
   ]
  },
  {
   "cell_type": "markdown",
   "metadata": {},
   "source": [
    "### Load model from local dir"
   ]
  },
  {
   "cell_type": "code",
   "execution_count": 13,
   "metadata": {},
   "outputs": [],
   "source": [
    "def get_ner_tags(classification_list):\n",
    "    return [t for t in classification_list if not t['entity_group'] == '0']"
   ]
  },
  {
   "cell_type": "code",
   "execution_count": 19,
   "metadata": {},
   "outputs": [],
   "source": [
    "model_path = \"D:\\\\nlp\\\\nn\\\\tokenclassification\\AutosNerModel_07_07_2023/checkpoint-700\""
   ]
  },
  {
   "cell_type": "code",
   "execution_count": null,
   "metadata": {},
   "outputs": [],
   "source": [
    "local_tokenizer = AutoTokenizer.from_pretrained(model_path)"
   ]
  },
  {
   "cell_type": "code",
   "execution_count": 20,
   "metadata": {},
   "outputs": [],
   "source": [
    "local_model = AutoModelForTokenClassification.from_pretrained(model_path)"
   ]
  },
  {
   "cell_type": "code",
   "execution_count": 21,
   "metadata": {},
   "outputs": [
    {
     "data": {
      "text/plain": [
       "107749671"
      ]
     },
     "execution_count": 21,
     "metadata": {},
     "output_type": "execute_result"
    }
   ],
   "source": [
    "local_model.num_parameters()"
   ]
  },
  {
   "cell_type": "code",
   "execution_count": 12,
   "metadata": {},
   "outputs": [
    {
     "data": {
      "text/plain": [
       "BertConfig {\n",
       "  \"_name_or_path\": \"./AutosNerModel_07_07_2023/checkpoint-700\",\n",
       "  \"architectures\": [\n",
       "    \"BertForTokenClassification\"\n",
       "  ],\n",
       "  \"attention_probs_dropout_prob\": 0.1,\n",
       "  \"classifier_dropout\": null,\n",
       "  \"gradient_checkpointing\": false,\n",
       "  \"hidden_act\": \"gelu\",\n",
       "  \"hidden_dropout_prob\": 0.1,\n",
       "  \"hidden_size\": 768,\n",
       "  \"id2label\": {\n",
       "    \"0\": \"0\",\n",
       "    \"1\": \"B-aggregator\",\n",
       "    \"2\": \"I-aggregator\",\n",
       "    \"3\": \"B-bodystyle\",\n",
       "    \"4\": \"I-bodystyle\",\n",
       "    \"5\": \"B-color\",\n",
       "    \"6\": \"I-color\",\n",
       "    \"7\": \"B-dealer\",\n",
       "    \"8\": \"I-dealer\",\n",
       "    \"9\": \"B-dealername\",\n",
       "    \"10\": \"I-dealername\",\n",
       "    \"11\": \"B-drivetrain\",\n",
       "    \"12\": \"I-drivetrain\",\n",
       "    \"13\": \"B-engine\",\n",
       "    \"14\": \"I-engine\",\n",
       "    \"15\": \"B-intentindicator\",\n",
       "    \"16\": \"I-intentindicator\",\n",
       "    \"17\": \"B-location\",\n",
       "    \"18\": \"I-location\",\n",
       "    \"19\": \"B-make\",\n",
       "    \"20\": \"I-make\",\n",
       "    \"21\": \"B-model\",\n",
       "    \"22\": \"I-model\",\n",
       "    \"23\": \"B-modifier\",\n",
       "    \"24\": \"I-modifier\",\n",
       "    \"25\": \"B-price\",\n",
       "    \"26\": \"I-price\",\n",
       "    \"27\": \"B-segment\",\n",
       "    \"28\": \"I-segment\",\n",
       "    \"29\": \"B-stateofvehicle\",\n",
       "    \"30\": \"I-stateofvehicle\",\n",
       "    \"31\": \"B-transmission\",\n",
       "    \"32\": \"I-transmission\",\n",
       "    \"33\": \"B-trim\",\n",
       "    \"34\": \"I-trim\",\n",
       "    \"35\": \"B-vehicletype\",\n",
       "    \"36\": \"I-vehicletype\",\n",
       "    \"37\": \"B-year\",\n",
       "    \"38\": \"I-year\"\n",
       "  },\n",
       "  \"initializer_range\": 0.02,\n",
       "  \"intermediate_size\": 3072,\n",
       "  \"label2id\": {\n",
       "    \"0\": 0,\n",
       "    \"B-aggregator\": 1,\n",
       "    \"B-bodystyle\": 3,\n",
       "    \"B-color\": 5,\n",
       "    \"B-dealer\": 7,\n",
       "    \"B-dealername\": 9,\n",
       "    \"B-drivetrain\": 11,\n",
       "    \"B-engine\": 13,\n",
       "    \"B-intentindicator\": 15,\n",
       "    \"B-location\": 17,\n",
       "    \"B-make\": 19,\n",
       "    \"B-model\": 21,\n",
       "    \"B-modifier\": 23,\n",
       "    \"B-price\": 25,\n",
       "    \"B-segment\": 27,\n",
       "    \"B-stateofvehicle\": 29,\n",
       "    \"B-transmission\": 31,\n",
       "    \"B-trim\": 33,\n",
       "    \"B-vehicletype\": 35,\n",
       "    \"B-year\": 37,\n",
       "    \"I-aggregator\": 2,\n",
       "    \"I-bodystyle\": 4,\n",
       "    \"I-color\": 6,\n",
       "    \"I-dealer\": 8,\n",
       "    \"I-dealername\": 10,\n",
       "    \"I-drivetrain\": 12,\n",
       "    \"I-engine\": 14,\n",
       "    \"I-intentindicator\": 16,\n",
       "    \"I-location\": 18,\n",
       "    \"I-make\": 20,\n",
       "    \"I-model\": 22,\n",
       "    \"I-modifier\": 24,\n",
       "    \"I-price\": 26,\n",
       "    \"I-segment\": 28,\n",
       "    \"I-stateofvehicle\": 30,\n",
       "    \"I-transmission\": 32,\n",
       "    \"I-trim\": 34,\n",
       "    \"I-vehicletype\": 36,\n",
       "    \"I-year\": 38\n",
       "  },\n",
       "  \"layer_norm_eps\": 1e-12,\n",
       "  \"max_position_embeddings\": 512,\n",
       "  \"model_type\": \"bert\",\n",
       "  \"num_attention_heads\": 12,\n",
       "  \"num_hidden_layers\": 12,\n",
       "  \"pad_token_id\": 0,\n",
       "  \"position_embedding_type\": \"absolute\",\n",
       "  \"torch_dtype\": \"float32\",\n",
       "  \"transformers_version\": \"4.30.2\",\n",
       "  \"type_vocab_size\": 2,\n",
       "  \"use_cache\": true,\n",
       "  \"vocab_size\": 28996\n",
       "}"
      ]
     },
     "execution_count": 12,
     "metadata": {},
     "output_type": "execute_result"
    }
   ],
   "source": [
    "local_model.config"
   ]
  },
  {
   "cell_type": "code",
   "execution_count": 11,
   "metadata": {},
   "outputs": [
    {
     "data": {
      "text/plain": [
       "[{'entity_group': 'make',\n",
       "  'score': 0.9983127,\n",
       "  'word': 'toyota',\n",
       "  'start': 0,\n",
       "  'end': 6},\n",
       " {'entity_group': 'model',\n",
       "  'score': 0.99685186,\n",
       "  'word': 'rav4',\n",
       "  'start': 7,\n",
       "  'end': 11},\n",
       " {'entity_group': '0',\n",
       "  'score': 0.9472336,\n",
       "  'word': 'with',\n",
       "  'start': 12,\n",
       "  'end': 16},\n",
       " {'entity_group': 'drivetrain',\n",
       "  'score': 0.6339309,\n",
       "  'word': 'awd',\n",
       "  'start': 17,\n",
       "  'end': 20},\n",
       " {'entity_group': 'price',\n",
       "  'score': 0.8370262,\n",
       "  'word': 'under $ 35000',\n",
       "  'start': 21,\n",
       "  'end': 33},\n",
       " {'entity_group': '0',\n",
       "  'score': 0.5044755,\n",
       "  'word': 'near',\n",
       "  'start': 34,\n",
       "  'end': 38},\n",
       " {'entity_group': 'location',\n",
       "  'score': 0.85374326,\n",
       "  'word': 'renton',\n",
       "  'start': 39,\n",
       "  'end': 45}]"
      ]
     },
     "execution_count": 11,
     "metadata": {},
     "output_type": "execute_result"
    }
   ],
   "source": [
    "local_token_classifier = pipeline(\n",
    "    \"token-classification\", model=model_path, tokenizer=model_path, aggregation_strategy=\"max\"\n",
    ")\n",
    "local_token_classifier(\"toyota rav4 with awd under $35000 near renton\")"
   ]
  },
  {
   "cell_type": "code",
   "execution_count": 15,
   "metadata": {},
   "outputs": [
    {
     "data": {
      "text/plain": [
       "\"[{'entity_group': 'make', 'score': 0.9983127, 'word': 'toyota', 'start': 0, 'end': 6}, {'entity_group': 'model', 'score': 0.99685186, 'word': 'rav4', 'start': 7, 'end': 11}, {'entity_group': 'drivetrain', 'score': 0.6339309, 'word': 'awd', 'start': 17, 'end': 20}, {'entity_group': 'price', 'score': 0.8370262, 'word': 'under $ 35000', 'start': 21, 'end': 33}, {'entity_group': 'location', 'score': 0.85374326, 'word': 'renton', 'start': 39, 'end': 45}]\""
      ]
     },
     "execution_count": 15,
     "metadata": {},
     "output_type": "execute_result"
    }
   ],
   "source": [
    "str(get_ner_tags(local_token_classifier(\"toyota rav4 with awd under $35000 near renton\")))"
   ]
  },
  {
   "cell_type": "code",
   "execution_count": 5,
   "metadata": {},
   "outputs": [],
   "source": [
    "queries = [\n",
    "    'rav4 under 20k near toledo',\n",
    "    'honda crv limited under 25000 with less than 30000 miles',\n",
    "    'Suv under 40K close to Oakland',\n",
    "    'minivan less than 45000 near Oakland',\n",
    "    'cheap used cars under 10K',\n",
    "    'best suv with price under 35k in Bellevue',\n",
    "    'sports cars under 25k',\n",
    "    'luxury mid size sedan in grey color with awd between 20k and 35k',\n",
    "    '2022 nissan civic with less than 10K miles',\n",
    "    'red mazda cx9 newer than 2019',\n",
    "    'cr-v vs mazda cx9',\n",
    "    'klein honda',\n",
    "    'honda of seattle'\n",
    "]"
   ]
  },
  {
   "cell_type": "code",
   "execution_count": 6,
   "metadata": {},
   "outputs": [
    {
     "data": {
      "text/plain": [
       "[\"rav4 under 20k near toledo [{'entity_group': 'model', 'score': 0.91556233, 'word': 'rav4', 'start': 0, 'end': 4}, {'entity_group': 'price', 'score': 0.89678526, 'word': 'under 20k', 'start': 5, 'end': 14}, {'entity_group': 'location', 'score': 0.9253358, 'word': 'near toledo', 'start': 15, 'end': 26}]\",\n",
       " \"honda crv limited under 25000 with less than 30000 miles [{'entity_group': 'make', 'score': 0.9982223, 'word': 'honda', 'start': 0, 'end': 5}, {'entity_group': 'model', 'score': 0.99104816, 'word': 'crv', 'start': 6, 'end': 9}, {'entity_group': 'trim', 'score': 0.41648585, 'word': 'limited', 'start': 10, 'end': 17}, {'entity_group': 'price', 'score': 0.9390913, 'word': 'under 25000', 'start': 18, 'end': 29}, {'entity_group': '0', 'score': 0.8885052, 'word': 'with less than', 'start': 30, 'end': 44}, {'entity_group': 'price', 'score': 0.73682314, 'word': '30000', 'start': 45, 'end': 50}, {'entity_group': '0', 'score': 0.8931481, 'word': 'miles', 'start': 51, 'end': 56}]\",\n",
       " \"Suv under 40K close to Oakland [{'entity_group': 'bodystyle', 'score': 0.7534543, 'word': 'Suv', 'start': 0, 'end': 3}, {'entity_group': 'price', 'score': 0.77059305, 'word': 'under 40K', 'start': 4, 'end': 13}, {'entity_group': 'location', 'score': 0.6579081, 'word': 'close', 'start': 14, 'end': 19}, {'entity_group': '0', 'score': 0.6140593, 'word': 'to Oakland', 'start': 20, 'end': 30}]\",\n",
       " \"minivan less than 45000 near Oakland [{'entity_group': 'vehicletype', 'score': 0.7119809, 'word': 'minivan', 'start': 0, 'end': 7}, {'entity_group': '0', 'score': 0.36033222, 'word': 'less', 'start': 8, 'end': 12}, {'entity_group': 'price', 'score': 0.75421166, 'word': 'than 45000', 'start': 13, 'end': 23}, {'entity_group': 'location', 'score': 0.7564014, 'word': 'near Oakland', 'start': 24, 'end': 36}]\",\n",
       " \"cheap used cars under 10K [{'entity_group': 'modifier', 'score': 0.94237936, 'word': 'cheap', 'start': 0, 'end': 5}, {'entity_group': 'stateofvehicle', 'score': 0.9294902, 'word': 'used', 'start': 6, 'end': 10}, {'entity_group': 'vehicletype', 'score': 0.9741408, 'word': 'cars', 'start': 11, 'end': 15}, {'entity_group': 'price', 'score': 0.95907146, 'word': 'under 10K', 'start': 16, 'end': 25}]\",\n",
       " \"best suv with price under 35k in Bellevue [{'entity_group': 'modifier', 'score': 0.89705575, 'word': 'best', 'start': 0, 'end': 4}, {'entity_group': 'bodystyle', 'score': 0.9654316, 'word': 'suv', 'start': 5, 'end': 8}, {'entity_group': '0', 'score': 0.9733838, 'word': 'with price', 'start': 9, 'end': 19}, {'entity_group': 'price', 'score': 0.8032849, 'word': 'under 35k', 'start': 20, 'end': 29}, {'entity_group': '0', 'score': 0.99170697, 'word': 'in', 'start': 30, 'end': 32}, {'entity_group': 'location', 'score': 0.9541264, 'word': 'Bellevue', 'start': 33, 'end': 41}]\",\n",
       " \"sports cars under 25k [{'entity_group': 'vehicletype', 'score': 0.56837016, 'word': 'sports', 'start': 0, 'end': 6}, {'entity_group': 'vehicletype', 'score': 0.89617133, 'word': 'cars', 'start': 7, 'end': 11}, {'entity_group': 'price', 'score': 0.92163527, 'word': 'under 25k', 'start': 12, 'end': 21}]\",\n",
       " \"luxury mid size sedan in grey color with awd between 20k and 35k [{'entity_group': '0', 'score': 0.65886384, 'word': 'luxury mid size', 'start': 0, 'end': 15}, {'entity_group': 'bodystyle', 'score': 0.7543671, 'word': 'sedan', 'start': 16, 'end': 21}, {'entity_group': '0', 'score': 0.917822, 'word': 'in grey color with awd between 20k and 35k', 'start': 22, 'end': 64}]\",\n",
       " \"2022 nissan civic with less than 10K miles [{'entity_group': 'year', 'score': 0.99778986, 'word': '2022', 'start': 0, 'end': 4}, {'entity_group': 'make', 'score': 0.9986513, 'word': 'nissan', 'start': 5, 'end': 11}, {'entity_group': 'model', 'score': 0.9902616, 'word': 'civic', 'start': 12, 'end': 17}, {'entity_group': '0', 'score': 0.9094699, 'word': 'with less than 10K miles', 'start': 18, 'end': 42}]\",\n",
       " \"red mazda cx9 newer than 2019 [{'entity_group': 'color', 'score': 0.9475894, 'word': 'red', 'start': 0, 'end': 3}, {'entity_group': 'make', 'score': 0.99584866, 'word': 'mazda', 'start': 4, 'end': 9}, {'entity_group': 'model', 'score': 0.9199629, 'word': 'cx9', 'start': 10, 'end': 13}, {'entity_group': 'stateofvehicle', 'score': 0.3571869, 'word': 'newer', 'start': 14, 'end': 19}, {'entity_group': '0', 'score': 0.66167045, 'word': 'than', 'start': 20, 'end': 24}, {'entity_group': 'year', 'score': 0.9574635, 'word': '2019', 'start': 25, 'end': 29}]\",\n",
       " \"cr-v vs mazda cx9 [{'entity_group': 'make', 'score': 0.9520524, 'word': 'cr - v', 'start': 0, 'end': 4}, {'entity_group': '0', 'score': 0.95998585, 'word': 'vs', 'start': 5, 'end': 7}, {'entity_group': 'make', 'score': 0.9855767, 'word': 'mazda', 'start': 8, 'end': 13}, {'entity_group': '0', 'score': 0.59174424, 'word': 'cx9', 'start': 14, 'end': 17}]\",\n",
       " \"klein honda [{'entity_group': 'make', 'score': 0.98553073, 'word': 'klein honda', 'start': 0, 'end': 11}]\",\n",
       " \"honda of seattle [{'entity_group': 'make', 'score': 0.9982553, 'word': 'honda', 'start': 0, 'end': 5}, {'entity_group': '0', 'score': 0.93253136, 'word': 'of', 'start': 6, 'end': 8}, {'entity_group': 'location', 'score': 0.967843, 'word': 'seattle', 'start': 9, 'end': 16}]\"]"
      ]
     },
     "execution_count": 6,
     "metadata": {},
     "output_type": "execute_result"
    }
   ],
   "source": [
    "[f'{s} {local_token_classifier(s)}' for s in queries]"
   ]
  },
  {
   "cell_type": "markdown",
   "metadata": {},
   "source": [
    "### Create test file for polaris"
   ]
  },
  {
   "cell_type": "code",
   "execution_count": 15,
   "metadata": {},
   "outputs": [],
   "source": [
    "test = buy_research.sample(n=200)"
   ]
  },
  {
   "cell_type": "code",
   "execution_count": 18,
   "metadata": {},
   "outputs": [],
   "source": [
    "test['Query'].to_csv(f'{path}/autos_ner_test.tsv', sep='\\t', index=False, header=False)"
   ]
  }
 ],
 "metadata": {
  "kernelspec": {
   "display_name": "base",
   "language": "python",
   "name": "python3"
  },
  "language_info": {
   "codemirror_mode": {
    "name": "ipython",
    "version": 3
   },
   "file_extension": ".py",
   "mimetype": "text/x-python",
   "name": "python",
   "nbconvert_exporter": "python",
   "pygments_lexer": "ipython3",
   "version": "3.10.9"
  },
  "orig_nbformat": 4
 },
 "nbformat": 4,
 "nbformat_minor": 2
}
