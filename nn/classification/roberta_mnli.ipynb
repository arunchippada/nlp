{
 "cells": [
  {
   "cell_type": "code",
   "execution_count": 1,
   "metadata": {},
   "outputs": [],
   "source": [
    "import torch\n",
    "\n",
    "import transformers\n",
    "from transformers import pipeline\n",
    "from transformers import AutoModelForSequenceClassification, AutoTokenizer\n",
    "\n",
    "import numpy as np\n",
    "import pandas as pd"
   ]
  },
  {
   "cell_type": "code",
   "execution_count": null,
   "metadata": {},
   "outputs": [],
   "source": [
    "classifier = pipeline(\"zero-shot-classification\", model=\"roberta-large-mnli\")"
   ]
  },
  {
   "cell_type": "code",
   "execution_count": 7,
   "metadata": {},
   "outputs": [],
   "source": [
    "sequences_to_classify = [\"one day I will see the world\", \"best steak in america\", \"FASHION HAUL | Current Favorite Outfits\"]\n",
    "candidate_labels = ['travel', 'cooking', 'clothing', 'exploration']"
   ]
  },
  {
   "cell_type": "code",
   "execution_count": 8,
   "metadata": {},
   "outputs": [],
   "source": [
    "results = classifier(sequences_to_classify, candidate_labels, multi_label=True)"
   ]
  },
  {
   "cell_type": "code",
   "execution_count": 5,
   "metadata": {},
   "outputs": [
    {
     "data": {
      "text/plain": [
       "[{'sequence': 'one day I will see the world',\n",
       "  'labels': ['travel', 'exploration', 'dancing', 'cooking'],\n",
       "  'scores': [0.9923861026763916,\n",
       "   0.9649544954299927,\n",
       "   0.020983165130019188,\n",
       "   0.013253027573227882]},\n",
       " {'sequence': 'best steak in america',\n",
       "  'labels': ['cooking', 'exploration', 'travel', 'dancing'],\n",
       "  'scores': [0.9837098121643066,\n",
       "   0.7697228789329529,\n",
       "   0.20376132428646088,\n",
       "   0.0040351515635848045]}]"
      ]
     },
     "execution_count": 5,
     "metadata": {},
     "output_type": "execute_result"
    }
   ],
   "source": [
    "results"
   ]
  },
  {
   "cell_type": "code",
   "execution_count": 9,
   "metadata": {},
   "outputs": [
    {
     "data": {
      "text/html": [
       "<div>\n",
       "<style scoped>\n",
       "    .dataframe tbody tr th:only-of-type {\n",
       "        vertical-align: middle;\n",
       "    }\n",
       "\n",
       "    .dataframe tbody tr th {\n",
       "        vertical-align: top;\n",
       "    }\n",
       "\n",
       "    .dataframe thead th {\n",
       "        text-align: right;\n",
       "    }\n",
       "</style>\n",
       "<table border=\"1\" class=\"dataframe\">\n",
       "  <thead>\n",
       "    <tr style=\"text-align: right;\">\n",
       "      <th></th>\n",
       "      <th>travel</th>\n",
       "      <th>cooking</th>\n",
       "      <th>clothing</th>\n",
       "      <th>exploration</th>\n",
       "    </tr>\n",
       "  </thead>\n",
       "  <tbody>\n",
       "    <tr>\n",
       "      <th>one day I will see the world</th>\n",
       "      <td>0.992386</td>\n",
       "      <td>0.013253</td>\n",
       "      <td>0.036708</td>\n",
       "      <td>0.964954</td>\n",
       "    </tr>\n",
       "    <tr>\n",
       "      <th>best steak in america</th>\n",
       "      <td>0.203761</td>\n",
       "      <td>0.983710</td>\n",
       "      <td>0.003369</td>\n",
       "      <td>0.769723</td>\n",
       "    </tr>\n",
       "    <tr>\n",
       "      <th>FASHION HAUL | Current Favorite Outfits</th>\n",
       "      <td>0.081571</td>\n",
       "      <td>0.000592</td>\n",
       "      <td>0.997936</td>\n",
       "      <td>0.187005</td>\n",
       "    </tr>\n",
       "  </tbody>\n",
       "</table>\n",
       "</div>"
      ],
      "text/plain": [
       "                                           travel   cooking  clothing  \\\n",
       "one day I will see the world             0.992386  0.013253  0.036708   \n",
       "best steak in america                    0.203761  0.983710  0.003369   \n",
       "FASHION HAUL | Current Favorite Outfits  0.081571  0.000592  0.997936   \n",
       "\n",
       "                                         exploration  \n",
       "one day I will see the world                0.964954  \n",
       "best steak in america                       0.769723  \n",
       "FASHION HAUL | Current Favorite Outfits     0.187005  "
      ]
     },
     "execution_count": 9,
     "metadata": {},
     "output_type": "execute_result"
    }
   ],
   "source": [
    "df = pd.DataFrame(0, index=sequences_to_classify, columns=candidate_labels)\n",
    "\n",
    "nlabels = len(candidate_labels)\n",
    "for r in results:\n",
    "    for i in range(nlabels):\n",
    "        df.loc[r['sequence'], r['labels'][i]] = r['scores'][i]\n",
    "\n",
    "df"
   ]
  },
  {
   "cell_type": "code",
   "execution_count": null,
   "metadata": {},
   "outputs": [],
   "source": [
    "model_name = \"roberta-large-mnli\"\n",
    "tc_pipeline = pipeline(\"text-classification\", model = model_name, top_k=3)"
   ]
  },
  {
   "cell_type": "code",
   "execution_count": 56,
   "metadata": {},
   "outputs": [
    {
     "data": {
      "text/plain": [
       "[{'label': 'ENTAILMENT', 'score': 0.8363721966743469},\n",
       " {'label': 'NEUTRAL', 'score': 0.1386958360671997},\n",
       " {'label': 'CONTRADICTION', 'score': 0.0249320175498724}]"
      ]
     },
     "execution_count": 56,
     "metadata": {},
     "output_type": "execute_result"
    }
   ],
   "source": [
    "tc_pipeline({\"text\" : \"best steak in america. made with lamb and spices.\", \"text_pair\" : \"This example is cooking.\"})"
   ]
  },
  {
   "cell_type": "code",
   "execution_count": 57,
   "metadata": {},
   "outputs": [
    {
     "data": {
      "text/plain": [
       "[{'label': 'CONTRADICTION', 'score': 0.9754126071929932},\n",
       " {'label': 'NEUTRAL', 'score': 0.014543233439326286},\n",
       " {'label': 'ENTAILMENT', 'score': 0.010044156573712826}]"
      ]
     },
     "execution_count": 57,
     "metadata": {},
     "output_type": "execute_result"
    }
   ],
   "source": [
    "tc_pipeline({\"text\" : \"best steak in america. made with lamb and spices.\", \"text_pair\" : \"This example is clothing.\"})"
   ]
  },
  {
   "cell_type": "code",
   "execution_count": 58,
   "metadata": {},
   "outputs": [
    {
     "data": {
      "text/plain": [
       "[{'label': 'ENTAILMENT', 'score': 0.9562535285949707},\n",
       " {'label': 'NEUTRAL', 'score': 0.04176858067512512},\n",
       " {'label': 'CONTRADICTION', 'score': 0.0019778849091380835}]"
      ]
     },
     "execution_count": 58,
     "metadata": {},
     "output_type": "execute_result"
    }
   ],
   "source": [
    "tc_pipeline({\"text\" : \"FASHION HAUL | Current Favorite Outfits\", \"text_pair\" : \"This example is clothing.\"})"
   ]
  },
  {
   "cell_type": "code",
   "execution_count": null,
   "metadata": {},
   "outputs": [],
   "source": [
    "# manual step by step\n",
    "nli_model = AutoModelForSequenceClassification.from_pretrained(model_name)\n",
    "tokenizer = AutoTokenizer.from_pretrained(model_name)"
   ]
  },
  {
   "cell_type": "code",
   "execution_count": 19,
   "metadata": {},
   "outputs": [],
   "source": [
    "labels = ['clothing', 'cooking']\n",
    "hypotheses = [f'This example is {l}.' for l in labels]\n",
    "sequence = 'best steak in america. made with lamb and spices.'\n",
    "premises = [sequence] * len(hypotheses)"
   ]
  },
  {
   "cell_type": "code",
   "execution_count": null,
   "metadata": {},
   "outputs": [],
   "source": [
    "tokenizer.tokenize(premises[0], hypotheses[0])"
   ]
  },
  {
   "cell_type": "code",
   "execution_count": 21,
   "metadata": {},
   "outputs": [],
   "source": [
    "x = tokenizer(premises, hypotheses, return_tensors='pt',\n",
    "                     truncation='only_first')"
   ]
  },
  {
   "cell_type": "code",
   "execution_count": 22,
   "metadata": {},
   "outputs": [
    {
     "data": {
      "text/plain": [
       "{'input_ids': tensor([[    0,  7885, 19464,    11, 38187,   102,     4,   156,    19, 17988,\n",
       "             8, 27235,     4,     2,     2,   713,  1246,    16,  5296,     4,\n",
       "             2],\n",
       "        [    0,  7885, 19464,    11, 38187,   102,     4,   156,    19, 17988,\n",
       "             8, 27235,     4,     2,     2,   713,  1246,    16,  6836,     4,\n",
       "             2]]), 'attention_mask': tensor([[1, 1, 1, 1, 1, 1, 1, 1, 1, 1, 1, 1, 1, 1, 1, 1, 1, 1, 1, 1, 1],\n",
       "        [1, 1, 1, 1, 1, 1, 1, 1, 1, 1, 1, 1, 1, 1, 1, 1, 1, 1, 1, 1, 1]])}"
      ]
     },
     "execution_count": 22,
     "metadata": {},
     "output_type": "execute_result"
    }
   ],
   "source": [
    "x"
   ]
  },
  {
   "cell_type": "code",
   "execution_count": 23,
   "metadata": {},
   "outputs": [
    {
     "data": {
      "text/plain": [
       "tensor([[ 2.8108e+00, -1.3950e+00, -1.7651e+00],\n",
       "        [-1.7178e+00, -1.7096e-03,  1.7951e+00]], grad_fn=<AddmmBackward0>)"
      ]
     },
     "execution_count": 23,
     "metadata": {},
     "output_type": "execute_result"
    }
   ],
   "source": [
    "y = nli_model(**x)\n",
    "logits = y.logits\n",
    "logits"
   ]
  },
  {
   "cell_type": "code",
   "execution_count": 24,
   "metadata": {},
   "outputs": [
    {
     "data": {
      "text/plain": [
       "tensor([[0.9898, 0.0102],\n",
       "        [0.0289, 0.9711]], grad_fn=<SoftmaxBackward0>)"
      ]
     },
     "execution_count": 24,
     "metadata": {},
     "output_type": "execute_result"
    }
   ],
   "source": [
    "# throw away \"neutral\" (dim 1) and take the probability of\n",
    "# \"entailment\" (2) as the probability of the label being true \n",
    "e_c_logits = logits[:, [0, 2]]\n",
    "e_c_logits.softmax(dim=1)"
   ]
  },
  {
   "cell_type": "code",
   "execution_count": 25,
   "metadata": {},
   "outputs": [
    {
     "data": {
      "text/plain": [
       "tensor([[0.9754, 0.0145, 0.0100],\n",
       "        [0.0249, 0.1387, 0.8364]], grad_fn=<SoftmaxBackward0>)"
      ]
     },
     "execution_count": 25,
     "metadata": {},
     "output_type": "execute_result"
    }
   ],
   "source": [
    "# softmax without throwing away neutral\n",
    "logits.softmax(dim=1)"
   ]
  },
  {
   "cell_type": "code",
   "execution_count": 26,
   "metadata": {},
   "outputs": [
    {
     "data": {
      "text/plain": [
       "RobertaConfig {\n",
       "  \"_name_or_path\": \"roberta-large-mnli\",\n",
       "  \"_num_labels\": 3,\n",
       "  \"architectures\": [\n",
       "    \"RobertaForSequenceClassification\"\n",
       "  ],\n",
       "  \"attention_probs_dropout_prob\": 0.1,\n",
       "  \"bos_token_id\": 0,\n",
       "  \"classifier_dropout\": null,\n",
       "  \"eos_token_id\": 2,\n",
       "  \"hidden_act\": \"gelu\",\n",
       "  \"hidden_dropout_prob\": 0.1,\n",
       "  \"hidden_size\": 1024,\n",
       "  \"id2label\": {\n",
       "    \"0\": \"CONTRADICTION\",\n",
       "    \"1\": \"NEUTRAL\",\n",
       "    \"2\": \"ENTAILMENT\"\n",
       "  },\n",
       "  \"initializer_range\": 0.02,\n",
       "  \"intermediate_size\": 4096,\n",
       "  \"label2id\": {\n",
       "    \"CONTRADICTION\": 0,\n",
       "    \"ENTAILMENT\": 2,\n",
       "    \"NEUTRAL\": 1\n",
       "  },\n",
       "  \"layer_norm_eps\": 1e-05,\n",
       "  \"max_position_embeddings\": 514,\n",
       "  \"model_type\": \"roberta\",\n",
       "  \"num_attention_heads\": 16,\n",
       "  \"num_hidden_layers\": 24,\n",
       "  \"pad_token_id\": 1,\n",
       "  \"position_embedding_type\": \"absolute\",\n",
       "  \"transformers_version\": \"4.21.3\",\n",
       "  \"type_vocab_size\": 1,\n",
       "  \"use_cache\": true,\n",
       "  \"vocab_size\": 50265\n",
       "}"
      ]
     },
     "execution_count": 26,
     "metadata": {},
     "output_type": "execute_result"
    }
   ],
   "source": [
    "nli_model.config"
   ]
  },
  {
   "cell_type": "code",
   "execution_count": 40,
   "metadata": {},
   "outputs": [],
   "source": [
    "x1 = tokenizer(\"best steak in america. made with lamb and spices. This example is cooking.\", return_tensors='pt', truncation='only_first')"
   ]
  },
  {
   "cell_type": "code",
   "execution_count": 41,
   "metadata": {},
   "outputs": [
    {
     "data": {
      "text/plain": [
       "{'input_ids': tensor([[    0,  7885, 19464,    11, 38187,   102,     4,   156,    19, 17988,\n",
       "             8, 27235,     4,   152,  1246,    16,  6836,     4,     2]]), 'attention_mask': tensor([[1, 1, 1, 1, 1, 1, 1, 1, 1, 1, 1, 1, 1, 1, 1, 1, 1, 1, 1]])}"
      ]
     },
     "execution_count": 41,
     "metadata": {},
     "output_type": "execute_result"
    }
   ],
   "source": [
    "x1"
   ]
  },
  {
   "cell_type": "code",
   "execution_count": 42,
   "metadata": {},
   "outputs": [
    {
     "data": {
      "text/plain": [
       "tensor([[-1.5117, -0.0889,  1.6263]], grad_fn=<AddmmBackward0>)"
      ]
     },
     "execution_count": 42,
     "metadata": {},
     "output_type": "execute_result"
    }
   ],
   "source": [
    "y1 = nli_model(**x1)\n",
    "logits1 = y1.logits\n",
    "logits1"
   ]
  },
  {
   "cell_type": "code",
   "execution_count": 44,
   "metadata": {},
   "outputs": [
    {
     "data": {
      "text/plain": [
       "tensor([[0.0355, 0.1471, 0.8175]], grad_fn=<SoftmaxBackward0>)"
      ]
     },
     "execution_count": 44,
     "metadata": {},
     "output_type": "execute_result"
    }
   ],
   "source": [
    "logits1.softmax(dim=1)"
   ]
  },
  {
   "cell_type": "code",
   "execution_count": 52,
   "metadata": {},
   "outputs": [],
   "source": [
    "d = {\"text\" : \"best steak in america. made with lamb and spices.\", \"text_pair\" : \"This example is cooking.\"}"
   ]
  },
  {
   "cell_type": "code",
   "execution_count": 55,
   "metadata": {},
   "outputs": [
    {
     "data": {
      "text/plain": [
       "'best steak in america. made with lamb and spices.'"
      ]
     },
     "execution_count": 55,
     "metadata": {},
     "output_type": "execute_result"
    }
   ],
   "source": []
  }
 ],
 "metadata": {
  "kernelspec": {
   "display_name": "Python 3.9.12 64-bit",
   "language": "python",
   "name": "python3"
  },
  "language_info": {
   "codemirror_mode": {
    "name": "ipython",
    "version": 3
   },
   "file_extension": ".py",
   "mimetype": "text/x-python",
   "name": "python",
   "nbconvert_exporter": "python",
   "pygments_lexer": "ipython3",
   "version": "3.9.12"
  },
  "orig_nbformat": 4,
  "vscode": {
   "interpreter": {
    "hash": "d6a2ed50b9e4eaa101095046af0807d99d7745b36820485d55a169bc42680a05"
   }
  }
 },
 "nbformat": 4,
 "nbformat_minor": 2
}
