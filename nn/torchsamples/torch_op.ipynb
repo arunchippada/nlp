{
 "cells": [
  {
   "cell_type": "code",
   "execution_count": 1,
   "metadata": {},
   "outputs": [],
   "source": [
    "import torch\n",
    "import torch.nn as nn\n",
    "from torch.nn import functional as F"
   ]
  },
  {
   "cell_type": "code",
   "execution_count": 8,
   "metadata": {},
   "outputs": [
    {
     "data": {
      "text/plain": [
       "tensor([[-1.0917, -2.6087, -1.7778],\n",
       "        [-0.1516, -1.1200,  2.3528],\n",
       "        [-0.0040,  0.2999,  0.5412],\n",
       "        [-0.1545, -0.0085,  1.7611]])"
      ]
     },
     "metadata": {},
     "output_type": "display_data"
    },
    {
     "data": {
      "text/plain": [
       "tensor([[-1.0917,  0.0000,  0.0000],\n",
       "        [-0.1516, -1.1200,  0.0000],\n",
       "        [-0.0040,  0.2999,  0.5412],\n",
       "        [-0.1545, -0.0085,  1.7611]])"
      ]
     },
     "metadata": {},
     "output_type": "display_data"
    },
    {
     "data": {
      "text/plain": [
       "tensor([[-1.0917,    -inf,    -inf],\n",
       "        [-0.1516, -1.1200,    -inf],\n",
       "        [-0.0040,  0.2999,  0.5412],\n",
       "        [-0.1545, -0.0085,  1.7611]])"
      ]
     },
     "metadata": {},
     "output_type": "display_data"
    }
   ],
   "source": [
    "# create lower triangle of false and masked fill\n",
    "\n",
    "t = torch.randn(4, 3)\n",
    "tril = torch.tril(t)\n",
    "mf = t.masked_fill(tril == 0, float('-inf'))\n",
    "display(t, tril, mf)\n"
   ]
  }
 ],
 "metadata": {
  "interpreter": {
   "hash": "d6a2ed50b9e4eaa101095046af0807d99d7745b36820485d55a169bc42680a05"
  },
  "kernelspec": {
   "display_name": "Python 3.9.12 64-bit",
   "language": "python",
   "name": "python3"
  },
  "language_info": {
   "codemirror_mode": {
    "name": "ipython",
    "version": 3
   },
   "file_extension": ".py",
   "mimetype": "text/x-python",
   "name": "python",
   "nbconvert_exporter": "python",
   "pygments_lexer": "ipython3",
   "version": "3.9.12"
  },
  "orig_nbformat": 4
 },
 "nbformat": 4,
 "nbformat_minor": 2
}
