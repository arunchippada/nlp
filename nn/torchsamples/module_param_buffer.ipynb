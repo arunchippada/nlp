{
 "cells": [
  {
   "cell_type": "code",
   "execution_count": 3,
   "metadata": {},
   "outputs": [],
   "source": [
    "import torch\n",
    "import torch.nn as nn\n",
    "from torch.nn import functional as F"
   ]
  },
  {
   "cell_type": "code",
   "execution_count": 4,
   "metadata": {},
   "outputs": [
    {
     "name": "stdout",
     "output_type": "stream",
     "text": [
      "tensor([-1.4280])\n",
      "tensor([-2.0129])\n",
      "Linear(in_features=2, out_features=2, bias=True)\n"
     ]
    }
   ],
   "source": [
    "class MyModel(nn.Module):\n",
    "    def __init__(self):\n",
    "        super(MyModel, self).__init__()\n",
    "        self.t1 = torch.randn(1)\n",
    "        self.register_buffer('b1', torch.randn(1))\n",
    "        self.p1 = nn.Parameter(torch.randn(1))\n",
    "        self.m1 = nn.Linear(2, 2)\n",
    "        \n",
    "    def forward(self, x):\n",
    "            return x\n",
    "\n",
    "model = MyModel()\n",
    "print(model.t1)\n",
    "print(model.b1)\n",
    "print(model.m1)"
   ]
  },
  {
   "cell_type": "code",
   "execution_count": 5,
   "metadata": {},
   "outputs": [
    {
     "name": "stdout",
     "output_type": "stream",
     "text": [
      "OrderedDict([('p1', tensor([-0.1534])), ('b1', tensor([-2.0129])), ('m1.weight', tensor([[ 0.4226, -0.5613],\n",
      "        [ 0.3703, -0.6924]])), ('m1.bias', tensor([0.3964, 0.3735]))])\n"
     ]
    }
   ],
   "source": [
    "# only buffers and params are part of state dict. state dict can be transferred to device\n",
    "print(model.state_dict())"
   ]
  }
 ],
 "metadata": {
  "interpreter": {
   "hash": "d6a2ed50b9e4eaa101095046af0807d99d7745b36820485d55a169bc42680a05"
  },
  "kernelspec": {
   "display_name": "Python 3.9.12 64-bit",
   "language": "python",
   "name": "python3"
  },
  "language_info": {
   "codemirror_mode": {
    "name": "ipython",
    "version": 3
   },
   "file_extension": ".py",
   "mimetype": "text/x-python",
   "name": "python",
   "nbconvert_exporter": "python",
   "pygments_lexer": "ipython3",
   "version": "3.9.12"
  },
  "orig_nbformat": 4
 },
 "nbformat": 4,
 "nbformat_minor": 2
}
