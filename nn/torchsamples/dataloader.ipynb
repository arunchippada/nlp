{
 "cells": [
  {
   "cell_type": "code",
   "execution_count": 1,
   "metadata": {},
   "outputs": [],
   "source": [
    "import torch\n",
    "import torch.nn as nn\n",
    "from torch.utils.data import Dataset, DataLoader"
   ]
  },
  {
   "cell_type": "code",
   "execution_count": 8,
   "metadata": {},
   "outputs": [],
   "source": [
    "class TestDataset(Dataset):\n",
    "    def __init__(self, size, length):\n",
    "        self.len = length\n",
    "        self.data = torch.randint(2, 6, (length, size))\n",
    "\n",
    "    def __getitem__(self, index):\n",
    "        return self.data[index]\n",
    "\n",
    "    def __len__(self):\n",
    "        return self.len\n",
    "\n",
    "    def data(self):\n",
    "        return self.data"
   ]
  },
  {
   "cell_type": "code",
   "execution_count": 9,
   "metadata": {},
   "outputs": [
    {
     "data": {
      "text/plain": [
       "tensor([[5, 5],\n",
       "        [4, 3],\n",
       "        [3, 5],\n",
       "        [4, 3],\n",
       "        [4, 5],\n",
       "        [4, 5],\n",
       "        [3, 4],\n",
       "        [5, 5],\n",
       "        [4, 4],\n",
       "        [2, 3]])"
      ]
     },
     "execution_count": 9,
     "metadata": {},
     "output_type": "execute_result"
    }
   ],
   "source": [
    "ds = TestDataset(2, 10)\n",
    "ds.data"
   ]
  },
  {
   "cell_type": "code",
   "execution_count": 11,
   "metadata": {},
   "outputs": [
    {
     "data": {
      "text/plain": [
       "tensor([[5, 5],\n",
       "        [4, 3],\n",
       "        [3, 5]])"
      ]
     },
     "metadata": {},
     "output_type": "display_data"
    },
    {
     "data": {
      "text/plain": [
       "tensor([[4, 3],\n",
       "        [4, 5],\n",
       "        [4, 5]])"
      ]
     },
     "metadata": {},
     "output_type": "display_data"
    },
    {
     "data": {
      "text/plain": [
       "tensor([[3, 4],\n",
       "        [5, 5],\n",
       "        [4, 4]])"
      ]
     },
     "metadata": {},
     "output_type": "display_data"
    },
    {
     "data": {
      "text/plain": [
       "tensor([[2, 3]])"
      ]
     },
     "metadata": {},
     "output_type": "display_data"
    }
   ],
   "source": [
    "loader = DataLoader(dataset=ds, batch_size=3, shuffle=False)\n",
    "\n",
    "for data in loader:\n",
    "    display(data)\n",
    "                         "
   ]
  },
  {
   "cell_type": "code",
   "execution_count": 13,
   "metadata": {},
   "outputs": [],
   "source": [
    "class TestDatasetWithTargets(Dataset):\n",
    "    def __init__(self, size, length):\n",
    "        self.len = length\n",
    "        self.datax = torch.randint(2, 6, (length, size))\n",
    "        self.datay = torch.randint(7, 10, (length, size))\n",
    "\n",
    "    def __getitem__(self, index):\n",
    "        return self.datax[index], self.datay[index]\n",
    "\n",
    "    def __len__(self):\n",
    "        return self.len\n",
    "\n",
    "    def print(self):\n",
    "        display(self.datax)\n",
    "        display(self.datay)"
   ]
  },
  {
   "cell_type": "code",
   "execution_count": 14,
   "metadata": {},
   "outputs": [
    {
     "data": {
      "text/plain": [
       "tensor([[4, 4],\n",
       "        [5, 2],\n",
       "        [4, 2],\n",
       "        [2, 2],\n",
       "        [5, 3],\n",
       "        [5, 4],\n",
       "        [2, 5],\n",
       "        [2, 4],\n",
       "        [2, 3],\n",
       "        [3, 2]])"
      ]
     },
     "metadata": {},
     "output_type": "display_data"
    },
    {
     "data": {
      "text/plain": [
       "tensor([[9, 9],\n",
       "        [8, 8],\n",
       "        [8, 9],\n",
       "        [8, 7],\n",
       "        [9, 9],\n",
       "        [8, 7],\n",
       "        [9, 9],\n",
       "        [8, 8],\n",
       "        [9, 8],\n",
       "        [9, 8]])"
      ]
     },
     "metadata": {},
     "output_type": "display_data"
    }
   ],
   "source": [
    "ds = TestDatasetWithTargets(2, 10)\n",
    "ds.print()"
   ]
  },
  {
   "cell_type": "code",
   "execution_count": 15,
   "metadata": {},
   "outputs": [
    {
     "data": {
      "text/plain": [
       "[tensor([[4, 4],\n",
       "         [5, 2],\n",
       "         [4, 2]]),\n",
       " tensor([[9, 9],\n",
       "         [8, 8],\n",
       "         [8, 9]])]"
      ]
     },
     "metadata": {},
     "output_type": "display_data"
    },
    {
     "data": {
      "text/plain": [
       "[tensor([[2, 2],\n",
       "         [5, 3],\n",
       "         [5, 4]]),\n",
       " tensor([[8, 7],\n",
       "         [9, 9],\n",
       "         [8, 7]])]"
      ]
     },
     "metadata": {},
     "output_type": "display_data"
    },
    {
     "data": {
      "text/plain": [
       "[tensor([[2, 5],\n",
       "         [2, 4],\n",
       "         [2, 3]]),\n",
       " tensor([[9, 9],\n",
       "         [8, 8],\n",
       "         [9, 8]])]"
      ]
     },
     "metadata": {},
     "output_type": "display_data"
    },
    {
     "data": {
      "text/plain": [
       "[tensor([[3, 2]]), tensor([[9, 8]])]"
      ]
     },
     "metadata": {},
     "output_type": "display_data"
    }
   ],
   "source": [
    "# Testdataset is returning a tuple in this case. Dataloader adds the \"minibatch\" dimension for each entry in the tuple\n",
    "loader = DataLoader(dataset=ds, batch_size=3, shuffle=False)\n",
    "\n",
    "for data in loader:\n",
    "    display(data)"
   ]
  }
 ],
 "metadata": {
  "kernelspec": {
   "display_name": "Python 3.9.12 ('base')",
   "language": "python",
   "name": "python3"
  },
  "language_info": {
   "codemirror_mode": {
    "name": "ipython",
    "version": 3
   },
   "file_extension": ".py",
   "mimetype": "text/x-python",
   "name": "python",
   "nbconvert_exporter": "python",
   "pygments_lexer": "ipython3",
   "version": "3.9.12"
  },
  "orig_nbformat": 4,
  "vscode": {
   "interpreter": {
    "hash": "d6a2ed50b9e4eaa101095046af0807d99d7745b36820485d55a169bc42680a05"
   }
  }
 },
 "nbformat": 4,
 "nbformat_minor": 2
}
